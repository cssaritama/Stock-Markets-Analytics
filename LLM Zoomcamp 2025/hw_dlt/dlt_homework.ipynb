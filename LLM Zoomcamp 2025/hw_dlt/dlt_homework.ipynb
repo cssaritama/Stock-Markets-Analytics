{
 "cells": [
  {
   "cell_type": "markdown",
   "metadata": {},
   "source": [
    "# LLM Zoomcamp - Homework dlt + Qdrant"
   ]
  },
  {
   "cell_type": "code",
   "execution_count": null,
   "metadata": {},
   "outputs": [],
   "source": [
    "# Instalación de dependencias\n",
    "!pip install -q \"dlt[qdrant]\" \"qdrant-client[fastembed]\""
   ]
  },
  {
   "cell_type": "code",
   "execution_count": null,
   "metadata": {},
   "outputs": [],
   "source": [
    "# Ejecutar el pipeline\n",
    "from hw_dlt.pipeline import run_pipeline, get_embedding_model\n",
    "\n",
    "pipeline = run_pipeline()\n",
    "print(\"\\nEmbedding model:\", get_embedding_model())"
   ]
  },
  {
   "cell_type": "code",
   "execution_count": null,
   "metadata": {},
   "outputs": [],
   "source": [
    "# Verificar datos en Qdrant\n",
    "from qdrant_client import QdrantClient\n",
    "\n",
    "client = QdrantClient(path=\"db.qdrant\")\n",
    "collections = client.get_collections()\n",
    "print(\"Collections:\", collections)\n",
    "\n",
    "# Contar documentos\n",
    "count = client.count(collection_name=\"zoomcamp_tagged_data_zoomcamp_data\")\n",
    "print(\"\\nDocument count:\", count)"
   ]
  }
 ]
}